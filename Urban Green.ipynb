{
 "cells": [
  {
   "cell_type": "code",
   "execution_count": 1,
   "id": "fa11378b-f6b4-4ce5-99cc-8da5a152da8f",
   "metadata": {},
   "outputs": [
    {
     "name": "stdout",
     "output_type": "stream",
     "text": [
      "Collecting opencv-python\n",
      "  Downloading opencv_python-4.9.0.80-cp37-abi3-macosx_10_16_x86_64.whl (55.7 MB)\n",
      "\u001b[2K     \u001b[90m━━━━━━━━━━━━━━━━━━━━━━━━━━━━━━━━━━━━━━━━\u001b[0m \u001b[32m55.7/55.7 MB\u001b[0m \u001b[31m2.9 MB/s\u001b[0m eta \u001b[36m0:00:00\u001b[0m00:01\u001b[0m00:01\u001b[0m\n",
      "\u001b[?25hCollecting scikit-image\n",
      "  Downloading scikit_image-0.23.2-cp310-cp310-macosx_10_9_x86_64.whl (14.0 MB)\n",
      "\u001b[2K     \u001b[90m━━━━━━━━━━━━━━━━━━━━━━━━━━━━━━━━━━━━━━━━\u001b[0m \u001b[32m14.0/14.0 MB\u001b[0m \u001b[31m3.2 MB/s\u001b[0m eta \u001b[36m0:00:00\u001b[0m00:01\u001b[0m00:01\u001b[0m\n",
      "\u001b[?25hRequirement already satisfied: numpy>=1.17.0 in /opt/anaconda3/envs/sklearn-env/lib/python3.10/site-packages (from opencv-python) (1.21.5)\n",
      "Collecting scipy>=1.9\n",
      "  Downloading scipy-1.13.0-cp310-cp310-macosx_10_9_x86_64.whl (39.3 MB)\n",
      "\u001b[2K     \u001b[90m━━━━━━━━━━━━━━━━━━━━━━━━━━━━━━━━━━━━━━━━\u001b[0m \u001b[32m39.3/39.3 MB\u001b[0m \u001b[31m3.1 MB/s\u001b[0m eta \u001b[36m0:00:00\u001b[0m00:01\u001b[0m00:01\u001b[0m\n",
      "\u001b[?25hCollecting tifffile>=2022.8.12\n",
      "  Downloading tifffile-2024.5.10-py3-none-any.whl (225 kB)\n",
      "\u001b[2K     \u001b[90m━━━━━━━━━━━━━━━━━━━━━━━━━━━━━━━━━━━━━━━\u001b[0m \u001b[32m225.7/225.7 kB\u001b[0m \u001b[31m3.1 MB/s\u001b[0m eta \u001b[36m0:00:00\u001b[0m00:01\u001b[0m\n",
      "\u001b[?25hCollecting pillow>=9.1\n",
      "  Downloading pillow-10.3.0-cp310-cp310-macosx_10_10_x86_64.whl (3.5 MB)\n",
      "\u001b[2K     \u001b[90m━━━━━━━━━━━━━━━━━━━━━━━━━━━━━━━━━━━━━━━━\u001b[0m \u001b[32m3.5/3.5 MB\u001b[0m \u001b[31m3.8 MB/s\u001b[0m eta \u001b[36m0:00:00\u001b[0m00:01\u001b[0m00:01\u001b[0mm\n",
      "\u001b[?25hCollecting imageio>=2.33\n",
      "  Downloading imageio-2.34.1-py3-none-any.whl (313 kB)\n",
      "\u001b[2K     \u001b[90m━━━━━━━━━━━━━━━━━━━━━━━━━━━━━━━━━━━━━━━\u001b[0m \u001b[32m313.5/313.5 kB\u001b[0m \u001b[31m4.5 MB/s\u001b[0m eta \u001b[36m0:00:00\u001b[0ma \u001b[36m0:00:01\u001b[0m\n",
      "\u001b[?25hCollecting packaging>=21\n",
      "  Downloading packaging-24.0-py3-none-any.whl (53 kB)\n",
      "\u001b[2K     \u001b[90m━━━━━━━━━━━━━━━━━━━━━━━━━━━━━━━━━━━━━━━━\u001b[0m \u001b[32m53.5/53.5 kB\u001b[0m \u001b[31m1.8 MB/s\u001b[0m eta \u001b[36m0:00:00\u001b[0m\n",
      "\u001b[?25hCollecting lazy-loader>=0.4\n",
      "  Downloading lazy_loader-0.4-py3-none-any.whl (12 kB)\n",
      "Collecting numpy>=1.17.0\n",
      "  Downloading numpy-1.26.4-cp310-cp310-macosx_10_9_x86_64.whl (20.6 MB)\n",
      "\u001b[2K     \u001b[90m━━━━━━━━━━━━━━━━━━━━━━━━━━━━━━━━━━━━━━━━\u001b[0m \u001b[32m20.6/20.6 MB\u001b[0m \u001b[31m2.7 MB/s\u001b[0m eta \u001b[36m0:00:00\u001b[0m00:01\u001b[0m00:01\u001b[0m\n",
      "\u001b[?25hCollecting networkx>=2.8\n",
      "  Downloading networkx-3.3-py3-none-any.whl (1.7 MB)\n",
      "\u001b[2K     \u001b[90m━━━━━━━━━━━━━━━━━━━━━━━━━━━━━━━━━━━━━━━━\u001b[0m \u001b[32m1.7/1.7 MB\u001b[0m \u001b[31m4.1 MB/s\u001b[0m eta \u001b[36m0:00:00\u001b[0m00:01\u001b[0m00:01\u001b[0m\n",
      "\u001b[?25hInstalling collected packages: pillow, packaging, numpy, networkx, tifffile, scipy, opencv-python, lazy-loader, imageio, scikit-image\n",
      "  Attempting uninstall: numpy\n",
      "    Found existing installation: numpy 1.21.5\n",
      "    Uninstalling numpy-1.21.5:\n",
      "      Successfully uninstalled numpy-1.21.5\n",
      "  Attempting uninstall: scipy\n",
      "    Found existing installation: scipy 1.7.3\n",
      "    Uninstalling scipy-1.7.3:\n",
      "      Successfully uninstalled scipy-1.7.3\n",
      "Successfully installed imageio-2.34.1 lazy-loader-0.4 networkx-3.3 numpy-1.26.4 opencv-python-4.9.0.80 packaging-24.0 pillow-10.3.0 scikit-image-0.23.2 scipy-1.13.0 tifffile-2024.5.10\n",
      "Note: you may need to restart the kernel to use updated packages.\n"
     ]
    }
   ],
   "source": [
    "# pip install opencv-python scikit-image"
   ]
  },
  {
   "cell_type": "code",
   "execution_count": 1,
   "id": "d3db64d7-73d0-4772-ae24-fd84cec876dd",
   "metadata": {},
   "outputs": [],
   "source": [
    "import cv2\n",
    "import numpy as np\n",
    "from skimage.color import rgb2hsv\n",
    "import matplotlib.pyplot as plt\n",
    "import os"
   ]
  },
  {
   "cell_type": "code",
   "execution_count": 2,
   "id": "0a98669f-365e-41f8-a61b-c5eb307c03d7",
   "metadata": {},
   "outputs": [],
   "source": [
    "# create images array\n",
    "path = './img'\n",
    "folder = os.fsencode(path)\n",
    "\n",
    "filenames = []\n",
    "imageList=[]\n",
    "\n",
    "for file in os.listdir(folder):\n",
    "    filename = os.fsdecode(file)\n",
    "    filenames.append(filename)\n",
    "    imageList.append(cv2.imread(path+'/'+filename))"
   ]
  },
  {
   "cell_type": "code",
   "execution_count": 6,
   "id": "4814b471-02e2-4d90-91bf-7b04f6cc36d3",
   "metadata": {},
   "outputs": [
    {
     "name": "stdout",
     "output_type": "stream",
     "text": [
      "UGI  49M 414278 9173118.jpg :  0.00539113013386759\n",
      "UGI  49M 414383 9171628.jpg :  0.006134047747444958\n",
      "UGI  49M 414566 9172644.jpg :  0.0023975046707239824\n",
      "UGI  49M 414212 9174312.jpg :  0.07320393560949982\n",
      "UGI  49M 414293 9172179.jpg :  0.0008923345143306174\n",
      "UGI  49M 414208 9172693.jpg :  0.00783017625056564\n",
      "UGI  49M 414255 9174804.jpg :  0.03443460111045315\n",
      "UGI  49M 414103 9173537.jpg :  0.02407198970256339\n",
      "UGI  49M 412756 9170598.jpg :  0.08341105511529344\n",
      "UGI  49M 413148 9172148.jpg :  0.01982322575423871\n"
     ]
    }
   ],
   "source": [
    "# Looping through imageList to get UGI\n",
    "lower_green = np.array([40, 40, 40])\n",
    "upper_green = np.array([70, 255, 255])\n",
    "green_index_values=[]\n",
    "for index, image in enumerate(imageList):\n",
    "    hsv = cv2.cvtColor(image, cv2.COLOR_BGR2HSV)\n",
    "    mask = cv2.inRange(hsv, lower_green, upper_green)\n",
    "    green_areas = cv2.bitwise_and(image, image, mask=mask)\n",
    "    total_pixels = np.prod(image.shape[:2])\n",
    "    green_pixels = cv2.countNonZero(mask)\n",
    "    UGI = green_pixels / total_pixels\n",
    "    cv2.imwrite('./result/GA_'+filenames[index], green_areas)\n",
    "    print(\"UGI \",filenames[index],\": \", UGI)\n",
    "    green_index_values.append(UGI)\n",
    "    "
   ]
  },
  {
   "cell_type": "code",
   "execution_count": 39,
   "id": "94bfe05b-35ea-457f-84de-463005a4f155",
   "metadata": {},
   "outputs": [],
   "source": [
    "print(green_index_values)"
   ]
  },
  {
   "cell_type": "code",
   "execution_count": 5,
   "id": "8d1bb74e-8e14-4556-9157-4e0deadf8721",
   "metadata": {},
   "outputs": [
    {
     "data": {
      "image/png": "[encoded data removed]",
      "text/plain": [
       "<Figure size 640x480 with 1 Axes>"
      ]
     },
     "metadata": {},
     "output_type": "display_data"
    }
   ],
   "source": [
    "plt.hist(green_index_values, bins=10, color='green', alpha=0.7)\n",
    "plt.xlabel('Green Index')\n",
    "plt.ylabel('Frequency')\n",
    "plt.title('Distribution of Green Index')\n",
    "plt.show()"
   ]
  }
 ],
 "metadata": {
  "kernelspec": {
   "display_name": "Python 3 (ipykernel)",
   "language": "python",
   "name": "python3"
  },
  "language_info": {
   "codemirror_mode": {
    "name": "ipython",
    "version": 3
   },
   "file_extension": ".py",
   "mimetype": "text/x-python",
   "name": "python",
   "nbconvert_exporter": "python",
   "pygments_lexer": "ipython3",
   "version": "3.10.8"
  }
 },
 "nbformat": 4,
 "nbformat_minor": 5
}
